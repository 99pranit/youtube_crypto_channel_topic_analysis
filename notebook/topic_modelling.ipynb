{
 "cells": [
  {
   "cell_type": "markdown",
   "metadata": {},
   "source": [
    "# Import Libraries"
   ]
  },
  {
   "cell_type": "code",
   "execution_count": 10,
   "metadata": {},
   "outputs": [],
   "source": [
    "import pandas as pd\n",
    "import numpy as np\n",
    "import spacy\n",
    "from sklearn.feature_extraction.text import TfidfVectorizer\n",
    "import os\n",
    "from collections import Counter\n",
    "from sklearn.decomposition import TruncatedSVD, LatentDirichletAllocation, NMF\n",
    "from gensim.models import HdpModel, CoherenceModel\n",
    "import gensim.corpora as corpora\n",
    "import hdp\n",
    "import matplotlib.pyplot as plt\n",
    "\n",
    "import warnings\n",
    "warnings.filterwarnings('ignore')\n",
    "pd.set_option('display.max_columns', None)  # Show all columns\n",
    "pd.set_option('display.max_rows', None)  # Show all rows\n",
    "pd.set_option('display.max_colwidth', None)  # Show full content in each cell\n",
    "pd.set_option('display.width', 1000)  # Set max width\n",
    "\n",
    "# Load spaCy's English model\n",
    "nlp = spacy.load('en_core_web_sm')"
   ]
  },
  {
   "cell_type": "markdown",
   "metadata": {},
   "source": [
    "# Modules"
   ]
  },
  {
   "cell_type": "code",
   "execution_count": 2,
   "metadata": {},
   "outputs": [],
   "source": [
    "def preprocess_text(text):\n",
    "\n",
    "    doc = nlp(text.lower().strip())  # Lowercase and remove whitespace\n",
    "    \n",
    "# Process tokens: lemmatize, filter stopwords/punct/numbers\n",
    "    tokens = [\n",
    "        token.lemma_ \n",
    "        for token in doc \n",
    "        if (\n",
    "            (not token.is_stop) and\n",
    "            (not token.is_punct) and \n",
    "            (token.is_alpha)\n",
    "        )\n",
    "    ]\n",
    "\n",
    "    return ' '.join(tokens)"
   ]
  },
  {
   "cell_type": "code",
   "execution_count": 3,
   "metadata": {},
   "outputs": [],
   "source": [
    "def get_keys(topic_matrix):\n",
    "    '''\n",
    "    returns an integer list of predicted topic \n",
    "    categories for a given topic matrix\n",
    "    '''\n",
    "    keys = topic_matrix.argmax(axis=1).tolist()\n",
    "    return keys\n"
   ]
  },
  {
   "cell_type": "code",
   "execution_count": 4,
   "metadata": {},
   "outputs": [],
   "source": [
    "def keys_to_counts(keys):\n",
    "    '''\n",
    "    returns a tuple of topic categories and their \n",
    "    accompanying magnitudes for a given list of keys\n",
    "    '''\n",
    "    count_pairs = Counter(keys).items()\n",
    "    categories = [pair[0] for pair in count_pairs]\n",
    "    counts = [pair[1] for pair in count_pairs]\n",
    "    return (categories, counts)"
   ]
  },
  {
   "cell_type": "code",
   "execution_count": 5,
   "metadata": {},
   "outputs": [],
   "source": [
    "def get_top_n_words(n , n_topics, keys, document_term_matrix, count_vectorizer):\n",
    "    '''\n",
    "    returns a list of n_topic strings, where each string contains the n most common \n",
    "    words in a predicted category, in order\n",
    "    '''\n",
    "    top_word_indices = []\n",
    "    for topic in range(n_topics):\n",
    "        temp_vector_sum = 0\n",
    "        for i in range(len(keys)):\n",
    "            if keys[i] == topic:\n",
    "                temp_vector_sum += document_term_matrix[i]\n",
    "        temp_vector_sum = temp_vector_sum.toarray()\n",
    "        top_n_word_indices = np.flip(np.argsort(temp_vector_sum)[0][-n:],0)\n",
    "        top_word_indices.append(top_n_word_indices)   \n",
    "    top_words = []\n",
    "    for topic in top_word_indices:\n",
    "        topic_words = []\n",
    "        for index in topic:\n",
    "            temp_word_vector = np.zeros((1,document_term_matrix.shape[1]))\n",
    "            temp_word_vector[:,index] = 1\n",
    "            the_word = count_vectorizer.inverse_transform(temp_word_vector)[0][0]\n",
    "            topic_words.append(the_word.encode('ascii').decode('utf-8'))\n",
    "        top_words.append(\" \".join(topic_words))         \n",
    "    return top_words"
   ]
  },
  {
   "cell_type": "code",
   "execution_count": 6,
   "metadata": {},
   "outputs": [],
   "source": [
    "def get_mean_topic_vectors(n_topics, keys, two_dim_vectors):\n",
    "    '''\n",
    "    returns a list of centroid vectors from each predicted topic category\n",
    "    '''\n",
    "    mean_topic_vectors = []\n",
    "    for t in range(n_topics):\n",
    "        articles_in_that_topic = []\n",
    "        for i in range(len(keys)):\n",
    "            if keys[i] == t:\n",
    "                articles_in_that_topic.append(two_dim_vectors[i])    \n",
    "        \n",
    "        articles_in_that_topic = np.vstack(articles_in_that_topic)\n",
    "        mean_article_in_that_topic = np.mean(articles_in_that_topic, axis=0)\n",
    "        mean_topic_vectors.append(mean_article_in_that_topic)\n",
    "    return mean_topic_vectors"
   ]
  },
  {
   "cell_type": "code",
   "execution_count": 7,
   "metadata": {},
   "outputs": [],
   "source": [
    "def print_top_words(model, feature_names, n_top_words):\n",
    "    for topic_idx, topic in enumerate(model.components_):\n",
    "        top_features_ind = topic.argsort()[-n_top_words:][::-1]\n",
    "        top_features = feature_names[top_features_ind]\n",
    "        print(f\"Topic {topic_idx + 1}:  {' '.join(top_features)}\")\n"
   ]
  },
  {
   "cell_type": "markdown",
   "metadata": {},
   "source": [
    "# Pre-Processing"
   ]
  },
  {
   "cell_type": "code",
   "execution_count": 14,
   "metadata": {},
   "outputs": [],
   "source": [
    "# Load dataset\n",
    "df = pd.DataFrame()\n",
    "for i in range(1,3):\n",
    "    q_df = pd.read_csv(os.getcwd() + '/video_data' + str(i) + '.csv')\n",
    "    df = pd.concat([df , q_df])\n",
    "df['processed_title'] = df['title'].apply(preprocess_text)"
   ]
  },
  {
   "cell_type": "code",
   "execution_count": 36,
   "metadata": {},
   "outputs": [
    {
     "data": {
      "text/plain": [
       "(2355, 2374)"
      ]
     },
     "execution_count": 36,
     "metadata": {},
     "output_type": "execute_result"
    }
   ],
   "source": [
    "# TF-IDF vectorization\n",
    "token_pattern = r\"(?u)\\b[a-zA-Z]{3,}\\b\"\n",
    "tf_vectorizer = TfidfVectorizer(\n",
    "    min_df= 2 ,\n",
    "    max_df=0.8 , \n",
    "    ngram_range=(1,2), \n",
    "    use_idf= True, \n",
    "    norm= 'l2', \n",
    "    token_pattern= token_pattern\n",
    "    )\n",
    "tfidf = tf_vectorizer.fit_transform(df['processed_title'])\n",
    "\n",
    "tfidf_df = pd.DataFrame(tfidf.toarray(), columns= tf_vectorizer.get_feature_names_out(), index=df.index)\n",
    "tfidf_df.shape"
   ]
  },
  {
   "cell_type": "markdown",
   "metadata": {},
   "source": [
    "# Modelling"
   ]
  },
  {
   "cell_type": "code",
   "execution_count": 22,
   "metadata": {},
   "outputs": [],
   "source": [
    "# Define number of topics\n",
    "n_topics = 10"
   ]
  },
  {
   "cell_type": "markdown",
   "metadata": {},
   "source": [
    "### LSA\n",
    "\n",
    "This is effectively just a truncated singular value decomposition of a (very high-rank and sparse) document-term matrix, with only the n_topics largest singular values preserved."
   ]
  },
  {
   "cell_type": "code",
   "execution_count": 18,
   "metadata": {},
   "outputs": [
    {
     "data": {
      "image/png": "[encoded data removed]",
      "text/plain": [
       "<Figure size 600x400 with 1 Axes>"
      ]
     },
     "metadata": {},
     "output_type": "display_data"
    }
   ],
   "source": [
    "explained_variances = []\n",
    "k_range = range(2, 50)  # Try different topic numbers\n",
    "\n",
    "for k in k_range:\n",
    "    svd = TruncatedSVD(n_components=k)\n",
    "    svd.fit(tfidf_df)\n",
    "    explained_variances.append(svd.explained_variance_ratio_.sum())\n",
    "\n",
    "# Plot elbow curve\n",
    "plt.figure(figsize=(6, 4))\n",
    "plt.plot(k_range, explained_variances, marker='o', linestyle='--')\n",
    "plt.xlabel('Number of Topics (n_components)')\n",
    "plt.ylabel('Total Explained Variance')\n",
    "plt.title('LSA Topic Modeling - Elbow Curve')\n",
    "plt.grid(True)\n",
    "plt.show()\n"
   ]
  },
  {
   "cell_type": "markdown",
   "metadata": {},
   "source": [
    "10 is optimal n_topics"
   ]
  },
  {
   "cell_type": "code",
   "execution_count": 19,
   "metadata": {},
   "outputs": [],
   "source": [
    "lsa_model = TruncatedSVD(n_components=n_topics)\n",
    "lsa_topic_matrix = lsa_model.fit_transform(tfidf_df)"
   ]
  },
  {
   "cell_type": "code",
   "execution_count": null,
   "metadata": {},
   "outputs": [
    {
     "name": "stdout",
     "output_type": "stream",
     "text": [
      "Topic 1:  bitcoin crypto news break dump btc bitcoin crypto happen sell bad\n",
      "Topic 2:  crypto week market crash crypto market blockchain big trump invest week crypto\n",
      "Topic 3:  explain programmer programmer explain ethereum bitcoin blockchain hack ethereum programmer eos happen\n",
      "Topic 4:  buy buy bitcoin bitcoin million token altcoin right coin rich crypto buy\n",
      "Topic 5:  deepak wadhwa deepak wadhwa new link new referal referal link referal easy trading\n",
      "Topic 6:  bull run bull run crypto bull bitcoin bull bull market market crypto bitcoin altcoin\n",
      "Topic 7:  altcoin cardano stimulus check stimulus check month gain altcoin season bitcoin altcoin season\n",
      "Topic 8:  ethereum price bitcoin price prediction price prediction bitcoin moon icos ethereum icos ethereum price\n",
      "Topic 9:  coin crypto coin urgent alt millionaire chance crypto alt coin pump change\n",
      "Topic 10:  trading money stockmarket stock beginner market invest day strategy deeptalk\n"
     ]
    }
   ],
   "source": [
    "'''\n",
    "Taking the  argmax of each headline in this topic matrix will give the predicted topics of each headline in the sample. \n",
    "We can then sort these into counts of each topic.\n",
    "  '''\n",
    "\n",
    "lsa_keys = get_keys(lsa_topic_matrix)\n",
    "lsa_categories, lsa_counts = keys_to_counts(lsa_keys)\n",
    "\n",
    "top_n_words_lsa = get_top_n_words(10, n_topics, lsa_keys, tfidf, tf_vectorizer)\n",
    "\n",
    "for i in range(len(top_n_words_lsa)):\n",
    "    print(\"Topic {}: \".format(i+1), top_n_words_lsa[i])"
   ]
  },
  {
   "cell_type": "markdown",
   "metadata": {},
   "source": [
    "### LDA\n",
    " LDA is instead a generative probabilistic process, designed with the specific goal of uncovering latent topic structure in text corpora."
   ]
  },
  {
   "cell_type": "code",
   "execution_count": null,
   "metadata": {},
   "outputs": [],
   "source": [
    "from sklearn.feature_extraction.text import CountVectorizer\n",
    "count_vectorizer = CountVectorizer(max_df=0.95, min_df=2)\n",
    "count_matrix = count_vectorizer.fit_transform(df['processed_title'])\n"
   ]
  },
  {
   "cell_type": "code",
   "execution_count": 24,
   "metadata": {},
   "outputs": [
    {
     "data": {
      "image/png": "[encoded data removed]",
      "text/plain": [
       "<Figure size 600x400 with 1 Axes>"
      ]
     },
     "metadata": {},
     "output_type": "display_data"
    }
   ],
   "source": [
    "perplexities = []\n",
    "k_range = range(2, 20)\n",
    "\n",
    "for k in k_range:\n",
    "    lda = LatentDirichletAllocation(n_components=k, random_state=42)\n",
    "    lda.fit(count_matrix)\n",
    "    perplexities.append(lda.perplexity(count_matrix))  # Lower is better\n",
    "\n",
    "# Plotting\n",
    "plt.figure(figsize=(6, 4))\n",
    "plt.plot(k_range, perplexities, marker='o', linestyle='--')\n",
    "plt.xlabel('Number of Topics')\n",
    "plt.ylabel('Perplexity')\n",
    "plt.title('LDA Model Perplexity vs. Number of Topics')\n",
    "plt.grid(True)\n",
    "plt.show()"
   ]
  },
  {
   "cell_type": "code",
   "execution_count": 25,
   "metadata": {},
   "outputs": [],
   "source": [
    "lda_model = LatentDirichletAllocation(n_components=n_topics, learning_method='online', \n",
    "                                          random_state=0, verbose=0)\n",
    "lda_topic_matrix = lda_model.fit_transform(tfidf)"
   ]
  },
  {
   "cell_type": "code",
   "execution_count": null,
   "metadata": {},
   "outputs": [
    {
     "name": "stdout",
     "output_type": "stream",
     "text": [
      "Topic 1:  bitcoin market crypto stock trump explain crash invest explode wadhwa\n",
      "Topic 2:  crypto bitcoin coin bull run explain market buy guide programmer\n",
      "Topic 3:  bitcoin crypto ledger explain global cap safe millionaire fed bonus\n",
      "Topic 4:  new deepak link wadhwa referal crypto easy january bitcoin rich\n",
      "Topic 5:  crypto step wallet beginner bitcoin guide card watch trade defi\n",
      "Topic 6:  bitcoin crypto explain ethereum programmer news week btc break blockchain\n",
      "Topic 7:  bitcoin crypto trading strategy million stockmarket crash day option dump\n",
      "Topic 8:  bitcoin crypto news explain price ethereum blockchain bullish altcoin market\n",
      "Topic 9:  bitcoin money crypto check stimulus big buy altcoin second market\n",
      "Topic 10:  bitcoin crypto buy altcoin price prediction know happen right need\n"
     ]
    }
   ],
   "source": [
    "'''\n",
    "Once again, we take the  argmax of each entry in the topic matrix \n",
    "to obtain the predicted topic category for each headline. \n",
    "These topic categories can then be characterised by their most frequent words.\n",
    "  '''\n",
    "lda_keys = get_keys(lda_topic_matrix)\n",
    "lda_categories, lda_counts = keys_to_counts(lda_keys)\n",
    "\n",
    "top_n_words_lda = get_top_n_words(10, n_topics, lda_keys, count_matrix, count_vectorizer)\n",
    "\n",
    "for i in range(len(top_n_words_lda)):\n",
    "    print(\"Topic {}: \".format(i+1), top_n_words_lda[i])"
   ]
  },
  {
   "cell_type": "markdown",
   "metadata": {},
   "source": [
    "### Non-Negative Matrix Factorization (NMF)\n",
    "Non-Negative Matrix Factorization is a statistical method to reduce the dimension of the input corpora. It uses factor analysis method to provide comparatively less weightage to the words with less coherence."
   ]
  },
  {
   "cell_type": "code",
   "execution_count": 29,
   "metadata": {},
   "outputs": [
    {
     "data": {
      "image/png": "[encoded data removed]",
      "text/plain": [
       "<Figure size 600x400 with 1 Axes>"
      ]
     },
     "metadata": {},
     "output_type": "display_data"
    }
   ],
   "source": [
    "import matplotlib.pyplot as plt\n",
    "from sklearn.decomposition import TruncatedSVD\n",
    "\n",
    "explained_variances = []\n",
    "k_range = range(2, 50)  # Try different topic numbers\n",
    "\n",
    "for k in k_range:\n",
    "    svd = TruncatedSVD(n_components=k)\n",
    "    svd.fit(tfidf_df)\n",
    "    explained_variances.append(svd.explained_variance_ratio_.sum())\n",
    "\n",
    "# Plot elbow curve\n",
    "plt.figure(figsize=(6, 4))\n",
    "plt.plot(k_range, explained_variances, marker='o', linestyle='--')\n",
    "plt.xlabel('Number of Topics (n_components)')\n",
    "plt.ylabel('Total Explained Variance')\n",
    "plt.title('LSA Topic Modeling - Elbow Curve')\n",
    "plt.grid(True)\n",
    "plt.show()\n"
   ]
  },
  {
   "cell_type": "code",
   "execution_count": 30,
   "metadata": {},
   "outputs": [],
   "source": [
    "nmf_model = NMF(n_components= 10)\n",
    "nmf_topic_matrix = nmf_model.fit(tfidf)"
   ]
  },
  {
   "cell_type": "code",
   "execution_count": 37,
   "metadata": {},
   "outputs": [
    {
     "name": "stdout",
     "output_type": "stream",
     "text": [
      "Topic 1:  bitcoin bitcoin price price break sell dump bitcoin bitcoin news\n",
      "Topic 2:  crypto week news week crypto crash market crypto news crypto market\n",
      "Topic 3:  explain programmer programmer explain ethereum programmer blockchain crash github happen\n",
      "Topic 4:  buy buy bitcoin crypto buy million token buy crypto right year\n",
      "Topic 5:  deepak wadhwa deepak wadhwa new link new referal referal referal link\n",
      "Topic 6:  bull run bull run crypto bull market bull market bitcoin bull million\n",
      "Topic 7:  altcoin bitcoin altcoin season altcoin season soon gain cardano right\n",
      "Topic 8:  ethereum price bitcoin price prediction price prediction bitcoin ethereum ethereum price icos\n",
      "Topic 9:  coin crypto coin chance urgent alt alt coin tiny meme\n",
      "Topic 10:  trading money strategy stockmarket stock beginner trading strategy guide\n"
     ]
    }
   ],
   "source": [
    "tfidf_feature_names = tf_vectorizer.get_feature_names_out()\n",
    "print_top_words(\n",
    "    nmf_model,\n",
    "    tfidf_feature_names,\n",
    "    8\n",
    ")\n"
   ]
  },
  {
   "cell_type": "markdown",
   "metadata": {},
   "source": [
    "### Hierarchical Dirichlet Process (HDP)"
   ]
  },
  {
   "cell_type": "code",
   "execution_count": 38,
   "metadata": {},
   "outputs": [],
   "source": [
    "data = df['processed_title'].apply(lambda x: x.split())\n",
    "id2word = corpora.Dictionary(data)\n",
    "corpus = [id2word.doc2bow(text) for text in data]"
   ]
  },
  {
   "cell_type": "code",
   "execution_count": 39,
   "metadata": {},
   "outputs": [
    {
     "name": "stdout",
     "output_type": "stream",
     "text": [
      "Best HDP Coherence: 0.7306649143701097\n",
      "Best HDP Parameters: {'gamma': 10, 'alpha': 0.5, 'kappa': 0.7, 'tau': 64.0}\n"
     ]
    }
   ],
   "source": [
    "param_grid_hdp = {\n",
    "    'gamma': [1, 5, 10],      # Controls topic sparsity (higher = fewer topics)\n",
    "    'alpha': [0.1, 0.5, 1.0], # Document-level topic concentration\n",
    "    'kappa': [0.3, 0.5, 0.7], # Learning rate\n",
    "    'tau': [32.0, 64.0]       # Slow-down parameter\n",
    "}\n",
    "\n",
    "best_coherence_hdp = -1\n",
    "best_params_hdp = {}\n",
    "\n",
    "for gamma in param_grid_hdp['gamma']:\n",
    "    for alpha in param_grid_hdp['alpha']:\n",
    "        for kappa in param_grid_hdp['kappa']:\n",
    "            for tau in param_grid_hdp['tau']:\n",
    "                # Train HDP model\n",
    "                model = HdpModel(\n",
    "                    corpus=corpus,\n",
    "                    id2word=id2word,\n",
    "                    gamma=gamma,\n",
    "                    alpha=alpha,\n",
    "                    kappa=kappa,\n",
    "                    tau=tau\n",
    "                )\n",
    "                \n",
    "                # Calculate coherence score\n",
    "                coherence = CoherenceModel(\n",
    "                    model=model,\n",
    "                    texts=data,\n",
    "                    dictionary=id2word,\n",
    "                    coherence='c_v'\n",
    "                ).get_coherence()\n",
    "                \n",
    "                # Update best parameters\n",
    "                if coherence > best_coherence_hdp:\n",
    "                    best_coherence_hdp = coherence\n",
    "                    best_params_hdp = {\n",
    "                        'gamma': gamma,\n",
    "                        'alpha': alpha,\n",
    "                        'kappa': kappa,\n",
    "                        'tau': tau\n",
    "                    }\n",
    "\n",
    "print(f\"Best HDP Coherence: {best_coherence_hdp}\")\n",
    "print(f\"Best HDP Parameters: {best_params_hdp}\")"
   ]
  },
  {
   "cell_type": "code",
   "execution_count": 40,
   "metadata": {},
   "outputs": [
    {
     "name": "stdout",
     "output_type": "stream",
     "text": [
      "20\n"
     ]
    }
   ],
   "source": [
    "hdp_model = HdpModel(\n",
    "    corpus=corpus,\n",
    "    id2word=id2word,\n",
    "    gamma=10,\n",
    "    alpha=0.5,\n",
    "    kappa=0.7,\n",
    "    tau= 64)\n",
    "\n",
    "hdptopics = hdp_model.show_topics(formatted=False)\n",
    "print(len(hdptopics))"
   ]
  },
  {
   "cell_type": "code",
   "execution_count": 41,
   "metadata": {},
   "outputs": [
    {
     "name": "stdout",
     "output_type": "stream",
     "text": [
      "Coherence Score: 0.728833630121469\n"
     ]
    }
   ],
   "source": [
    "# Evaluate topic coherence\n",
    "coherence_model = CoherenceModel(\n",
    "    model=hdp_model,\n",
    "    texts=data,\n",
    "    dictionary=id2word,\n",
    "    coherence='c_v'\n",
    ")\n",
    "coherence_score = coherence_model.get_coherence()\n",
    "print(f\"Coherence Score: {coherence_score}\")"
   ]
  },
  {
   "cell_type": "code",
   "execution_count": 42,
   "metadata": {},
   "outputs": [
    {
     "name": "stdout",
     "output_type": "stream",
     "text": [
      "Topic 0: bitcoin, penny, extrinsic, killing, hitler, reshape, regret, death, lose, manifest, career, iota, efani, stonk, beacon, ln, vom, pyramid, walmart, trader\n",
      "Topic 1: bitcoin, specie, earth, shikha, market, change, step, deep, crypto, watch, breeze, yoni, ultimate, bombshell, measure, tweet, flash, wtf, srinivasan, level\n",
      "Topic 2: crypto, gavin, bitcoin, programmer, incoming, mil, cryptotrade, machine, futurist, economy, weekend, insane, 참고할, teaser, hodl, arjun, topic, hysteria, roadster, social\n",
      "Topic 3: bitcoin, retire, worldcoin, record, intrinsic, currency, shortage, controversial, major, divergence, nse, hoskinson, motivated, crypto, miner, fight, dandelion, score, express, narrative\n",
      "Topic 4: crypto, coin, bitcoin, omg, define, nse, drizzle, airpod, srk, sharding, click, lakh, ethereum, cocos, gen, closed, calculation, dubai, today, cpi\n",
      "Topic 5: bitcoin, anymore, dame, roadster, news, ivan, crypto, bitboy, story, feel, prep, calm, giveaway, selfish, portuguese, oblivion, tie, design, teaser, solve\n",
      "Topic 6: crypto, ido, bitcoin, commission, hard, analysis, package, hero, jack, zero, altseason, hyperliquid, omg, bond, brokerage, asap, president, description, clause, du\n",
      "Topic 7: video, bitcoin, inve, planetary, critic, ghost, motivation, explain, bandit, valley, trump, spot, pattern, immutability, strongly, suppoman, lamborghini, imf, travel, demystify\n",
      "Topic 8: bitcoin, crypto, fulll, eureka, basesh, airdrop, uhryniak, china, cash, hash, city, wild, hoskinson, digest, scandal, bithumb, livestream, mass, follow, insurance\n",
      "Topic 9: schwab, mit, strength, controversy, bitmain, nvidia, bitcoin, dip, choke, debit, dominate, rockefeller, embarrassing, generation, unicorns, advanced, qnt, groundbreaking, say, lee\n",
      "Topic 10: bitcoin, crypto, nasty, bitbuy, die, creation, trump, rip, halving, million, google, hyperbitcoinization, omg, mil, single, utxos, budget, butcher, interoperability, forget\n",
      "Topic 11: gavin, history, damage, buffet, crypto, geopolitic, bitcoin, yogesh, analogy, historic, mayhem, approval, liquidity, party, systematic, pumapay, viral, istanbul, tron, nonfungible\n",
      "Topic 12: bitcoin, selling, retire, likely, global, stoploss, execution, melker, nse, loco, meeting, worth, finance, crypto, cz, distraction, explain, wake, draper, bloodline\n",
      "Topic 13: bitcoin, crypto, review, resistance, becker, problematic, memecoin, warning, allegedly, newbie, institution, capture, passively, finish, congestion, preferred, santosh, mil, lucky, hazard\n",
      "Topic 14: read, bull, winklevoss, bcx, rocket, card, tibia, yash, fuel, carlson, metric, co, bitcoin, laugh, wef, gifting, nfts, brink, dinner, accept\n",
      "Topic 15: dns, hodle, learn, bitcoin, metal, repeat, rid, hai, récord, affect, palihapitiya, deal, parody, solana系ミームコインのsolaxyの最新情報ってどうなっているの, sideways, bp, act, tokens, singularitynet, scammer\n",
      "Topic 16: find, algo, trader, chess, borrow, vcs, nuclear, bitcoin, safehouse, tick, crypto, master, atms, rest, date, burn, guess, apology, palihapitiya, activation\n",
      "Topic 17: bitcoin, crypto, pyramid, terrify, distribute, fud, thailand, october, jerome, millionaire, récord, mutual, easy, wadhwa, guide, lesson, hurry, fdv, asset, explosive\n",
      "Topic 18: bitcoin, thedeeptalk, dogecoin, crypto, equity, generation, father, embarrassing, tage, nuke, back, low, encontré, subjective, cap, bitbuy, run, song, agenda, ordinal\n",
      "Topic 19: crypto, ta, bitcoin, unspent, sam, try, deepfake, phil, breeze, hold, kya, explain, aantonop, le, sue, store, problematic, جاهزة, afford, reach\n"
     ]
    }
   ],
   "source": [
    "for topic_id, topic_words in hdptopics:\n",
    "    words = [word for word, _ in topic_words]\n",
    "    print(f\"Topic {topic_id}: {', '.join(words)}\")"
   ]
  },
  {
   "cell_type": "markdown",
   "metadata": {},
   "source": [
    "### Gaussian LDA"
   ]
  },
  {
   "cell_type": "code",
   "execution_count": null,
   "metadata": {},
   "outputs": [],
   "source": []
  }
 ],
 "metadata": {
  "kernelspec": {
   "display_name": "yt_env",
   "language": "python",
   "name": "python3"
  },
  "language_info": {
   "codemirror_mode": {
    "name": "ipython",
    "version": 3
   },
   "file_extension": ".py",
   "mimetype": "text/x-python",
   "name": "python",
   "nbconvert_exporter": "python",
   "pygments_lexer": "ipython3",
   "version": "3.10.16"
  }
 },
 "nbformat": 4,
 "nbformat_minor": 2
}
