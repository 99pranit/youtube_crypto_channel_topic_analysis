{
 "cells": [
  {
   "cell_type": "markdown",
   "metadata": {},
   "source": [
    "# Import Libraries"
   ]
  },
  {
   "cell_type": "code",
   "execution_count": 46,
   "metadata": {},
   "outputs": [],
   "source": [
    "import pandas as pd\n",
    "import numpy as np\n",
    "import spacy\n",
    "from sklearn.feature_extraction.text import TfidfVectorizer\n",
    "import os\n",
    "from collections import Counter\n",
    "from sklearn.decomposition import TruncatedSVD, LatentDirichletAllocation, NMF\n",
    "from gensim.models import HdpModel, CoherenceModel\n",
    "import gensim.corpora as corpora\n",
    "import hdp\n",
    "import matplotlib.pyplot as plt\n",
    "\n",
    "import warnings\n",
    "warnings.filterwarnings('ignore')\n",
    "pd.set_option('display.max_columns', None)  # Show all columns\n",
    "pd.set_option('display.max_rows', None)  # Show all rows\n",
    "pd.set_option('display.max_colwidth', None)  # Show full content in each cell\n",
    "pd.set_option('display.width', 1000)  # Set max width\n",
    "\n",
    "# Load spaCy's English model\n",
    "nlp = spacy.load('en_core_web_sm')"
   ]
  },
  {
   "cell_type": "markdown",
   "metadata": {},
   "source": [
    "# Modules"
   ]
  },
  {
   "cell_type": "code",
   "execution_count": 7,
   "metadata": {},
   "outputs": [],
   "source": [
    "def preprocess_text(text):\n",
    "    custom_stopwords = set(nlp.Defaults.stop_words)\n",
    "\n",
    "    doc = nlp(text.lower().strip())  # Lowercase and remove whitespace\n",
    "    \n",
    "# Process tokens: lemmatize, filter stopwords/punct/numbers\n",
    "    tokens = [\n",
    "        token.lemma_ \n",
    "        for token in doc \n",
    "        if (\n",
    "            (not token.is_stop) and\n",
    "            not token.is_punct and token.is_alpha                                  # Remove punctuation\n",
    "            # (token.is_alpha or token.like_num)                       # Keep words/numbers\n",
    "        )\n",
    "    ]\n",
    "\n",
    "    return ' '.join(tokens)"
   ]
  },
  {
   "cell_type": "code",
   "execution_count": 8,
   "metadata": {},
   "outputs": [],
   "source": [
    "def get_keys(topic_matrix):\n",
    "    '''\n",
    "    returns an integer list of predicted topic \n",
    "    categories for a given topic matrix\n",
    "    '''\n",
    "    keys = topic_matrix.argmax(axis=1).tolist()\n",
    "    return keys\n"
   ]
  },
  {
   "cell_type": "code",
   "execution_count": 9,
   "metadata": {},
   "outputs": [],
   "source": [
    "def keys_to_counts(keys):\n",
    "    '''\n",
    "    returns a tuple of topic categories and their \n",
    "    accompanying magnitudes for a given list of keys\n",
    "    '''\n",
    "    count_pairs = Counter(keys).items()\n",
    "    categories = [pair[0] for pair in count_pairs]\n",
    "    counts = [pair[1] for pair in count_pairs]\n",
    "    return (categories, counts)"
   ]
  },
  {
   "cell_type": "code",
   "execution_count": 10,
   "metadata": {},
   "outputs": [],
   "source": [
    "def get_top_n_words(n , n_topics, keys, document_term_matrix, count_vectorizer):\n",
    "    '''\n",
    "    returns a list of n_topic strings, where each string contains the n most common \n",
    "    words in a predicted category, in order\n",
    "    '''\n",
    "    top_word_indices = []\n",
    "    for topic in range(n_topics):\n",
    "        temp_vector_sum = 0\n",
    "        for i in range(len(keys)):\n",
    "            if keys[i] == topic:\n",
    "                temp_vector_sum += document_term_matrix[i]\n",
    "        temp_vector_sum = temp_vector_sum.toarray()\n",
    "        top_n_word_indices = np.flip(np.argsort(temp_vector_sum)[0][-n:],0)\n",
    "        top_word_indices.append(top_n_word_indices)   \n",
    "    top_words = []\n",
    "    for topic in top_word_indices:\n",
    "        topic_words = []\n",
    "        for index in topic:\n",
    "            temp_word_vector = np.zeros((1,document_term_matrix.shape[1]))\n",
    "            temp_word_vector[:,index] = 1\n",
    "            the_word = count_vectorizer.inverse_transform(temp_word_vector)[0][0]\n",
    "            topic_words.append(the_word.encode('ascii').decode('utf-8'))\n",
    "        top_words.append(\" \".join(topic_words))         \n",
    "    return top_words"
   ]
  },
  {
   "cell_type": "code",
   "execution_count": 11,
   "metadata": {},
   "outputs": [],
   "source": [
    "def get_mean_topic_vectors(n_topics, keys, two_dim_vectors):\n",
    "    '''\n",
    "    returns a list of centroid vectors from each predicted topic category\n",
    "    '''\n",
    "    mean_topic_vectors = []\n",
    "    for t in range(n_topics):\n",
    "        articles_in_that_topic = []\n",
    "        for i in range(len(keys)):\n",
    "            if keys[i] == t:\n",
    "                articles_in_that_topic.append(two_dim_vectors[i])    \n",
    "        \n",
    "        articles_in_that_topic = np.vstack(articles_in_that_topic)\n",
    "        mean_article_in_that_topic = np.mean(articles_in_that_topic, axis=0)\n",
    "        mean_topic_vectors.append(mean_article_in_that_topic)\n",
    "    return mean_topic_vectors"
   ]
  },
  {
   "cell_type": "code",
   "execution_count": 12,
   "metadata": {},
   "outputs": [],
   "source": [
    "def print_top_words(model, feature_names, n_top_words):\n",
    "    for topic_idx, topic in enumerate(model.components_):\n",
    "        top_features_ind = topic.argsort()[-n_top_words:][::-1]\n",
    "        top_features = feature_names[top_features_ind]\n",
    "        print(f\"Topic {topic_idx + 1}:  {' '.join(top_features)}\")\n"
   ]
  },
  {
   "cell_type": "markdown",
   "metadata": {},
   "source": [
    "# Pre-Processing"
   ]
  },
  {
   "cell_type": "code",
   "execution_count": 13,
   "metadata": {},
   "outputs": [],
   "source": [
    "# Load dataset\n",
    "df = pd.DataFrame()\n",
    "for i in range(1,2):\n",
    "    q_df = pd.read_csv(os.getcwd() + '/video_data' + str(i) + '.csv')\n",
    "    df = pd.concat([df , q_df])\n",
    "df['processed_title'] = df['title'].apply(preprocess_text)"
   ]
  },
  {
   "cell_type": "code",
   "execution_count": 14,
   "metadata": {},
   "outputs": [
    {
     "data": {
      "text/plain": [
       "(1605, 1575)"
      ]
     },
     "execution_count": 14,
     "metadata": {},
     "output_type": "execute_result"
    }
   ],
   "source": [
    "# TF-IDF vectorization\n",
    "token_pattern = r\"(?u)\\b[a-zA-Z]{3,}\\b\"\n",
    "vectorizer = TfidfVectorizer(\n",
    "    min_df= 2 ,max_df=0.8 , ngram_range=(1,2), use_idf= True, norm= 'l2', token_pattern= token_pattern\n",
    "                             )\n",
    "tfidf = vectorizer.fit_transform(df['processed_title'])\n",
    "\n",
    "tfidf_df = pd.DataFrame(tfidf.toarray(), columns= vectorizer.get_feature_names_out(), index=df.index)\n",
    "tfidf_df.shape"
   ]
  },
  {
   "cell_type": "markdown",
   "metadata": {},
   "source": [
    "# Modelling"
   ]
  },
  {
   "cell_type": "code",
   "execution_count": 15,
   "metadata": {},
   "outputs": [],
   "source": [
    "# Define number of topics\n",
    "n_topics = 10"
   ]
  },
  {
   "cell_type": "markdown",
   "metadata": {},
   "source": [
    "### LSA\n",
    "\n",
    "This is effectively just a truncated singular value decomposition of a (very high-rank and sparse) document-term matrix, with only the n_topics largest singular values preserved."
   ]
  },
  {
   "cell_type": "code",
   "execution_count": null,
   "metadata": {},
   "outputs": [
    {
     "data": {
      "image/png": "[encoded data removed]",
      "text/plain": [
       "<Figure size 600x400 with 1 Axes>"
      ]
     },
     "metadata": {},
     "output_type": "display_data"
    }
   ],
   "source": [
    "explained_variances = []\n",
    "k_range = range(2, 50)  # Try different topic numbers\n",
    "\n",
    "for k in k_range:\n",
    "    svd = TruncatedSVD(n_components=k)\n",
    "    svd.fit(tfidf_df)\n",
    "    explained_variances.append(svd.explained_variance_ratio_.sum())\n",
    "\n",
    "# Plot elbow curve\n",
    "plt.figure(figsize=(6, 4))\n",
    "plt.plot(k_range, explained_variances, marker='o', linestyle='--')\n",
    "plt.xlabel('Number of Topics (n_components)')\n",
    "plt.ylabel('Total Explained Variance')\n",
    "plt.title('LSA Topic Modeling - Elbow Curve')\n",
    "plt.grid(True)\n",
    "plt.show()\n"
   ]
  },
  {
   "cell_type": "markdown",
   "metadata": {},
   "source": [
    "10 is optimal n_topics"
   ]
  },
  {
   "cell_type": "code",
   "execution_count": 33,
   "metadata": {},
   "outputs": [],
   "source": [
    "lsa_model = TruncatedSVD(n_components=n_topics)\n",
    "lsa_topic_matrix = lsa_model.fit_transform(tfidf_df)"
   ]
  },
  {
   "cell_type": "code",
   "execution_count": 34,
   "metadata": {},
   "outputs": [
    {
     "name": "stdout",
     "output_type": "stream",
     "text": [
      "Topic 1:  bitcoin crypto news bullish pump bitcoin crypto explain scam crash break\n",
      "Topic 2:  explain programmer programmer explain ethereum bitcoin hack eos code ethereum programmer lightning\n",
      "Topic 3:  crypto week week crypto news btc blockchain trump bad big crash\n",
      "Topic 4:  buy buy bitcoin bitcoin time sell altcoin rich crypto buy token crypto\n",
      "Topic 5:  bull market run bull run bull market bear coin bear market bitcoin bull cycle\n",
      "Topic 6:  ethereum price bitcoin price price prediction prediction bitcoin bullish interview head start\n",
      "Topic 7:  altcoin memecoin gain millionaire bitcoin altcoin right wealth pump watch gem\n",
      "Topic 8:  moon binance month billion million legend beginning send ralph bitcoin moon\n",
      "Topic 9:  money bank new war collapse ethereum system private civil war civil\n",
      "Topic 10:  trading day strategy trade step trading strategy bybit guide beginner tutorial\n"
     ]
    }
   ],
   "source": [
    "'''\n",
    "Taking the  argmax of each headline in this topic matrix will give the predicted topics of each headline in the sample. \n",
    "We can then sort these into counts of each topic.\n",
    "  '''\n",
    "\n",
    "lsa_keys = get_keys(lsa_topic_matrix)\n",
    "lsa_categories, lsa_counts = keys_to_counts(lsa_keys)\n",
    "\n",
    "top_n_words_lsa = get_top_n_words(10, n_topics, lsa_keys, tfidf, vectorizer)\n",
    "\n",
    "for i in range(len(top_n_words_lsa)):\n",
    "    print(\"Topic {}: \".format(i+1), top_n_words_lsa[i])"
   ]
  },
  {
   "cell_type": "markdown",
   "metadata": {},
   "source": [
    "### LDA\n",
    " LDA is instead a generative probabilistic process, designed with the specific goal of uncovering latent topic structure in text corpora."
   ]
  },
  {
   "cell_type": "code",
   "execution_count": 52,
   "metadata": {},
   "outputs": [],
   "source": [
    "from sklearn.feature_extraction.text import CountVectorizer\n",
    "vectorizer = CountVectorizer(max_df=0.95, min_df=2)\n",
    "count_matrix = vectorizer.fit_transform(df['processed_title'])\n"
   ]
  },
  {
   "cell_type": "code",
   "execution_count": 54,
   "metadata": {},
   "outputs": [
    {
     "data": {
      "image/png": "[encoded data removed]",
      "text/plain": [
       "<Figure size 600x400 with 1 Axes>"
      ]
     },
     "metadata": {},
     "output_type": "display_data"
    }
   ],
   "source": [
    "perplexities = []\n",
    "k_range = range(2, 20)\n",
    "\n",
    "for k in k_range:\n",
    "    lda = LatentDirichletAllocation(n_components=k, random_state=42)\n",
    "    lda.fit(count_matrix)\n",
    "    perplexities.append(lda.perplexity(count_matrix))  # Lower is better\n",
    "\n",
    "# Plotting\n",
    "plt.figure(figsize=(6, 4))\n",
    "plt.plot(k_range, perplexities, marker='o', linestyle='--')\n",
    "plt.xlabel('Number of Topics')\n",
    "plt.ylabel('Perplexity')\n",
    "plt.title('LDA Model Perplexity vs. Number of Topics')\n",
    "plt.grid(True)\n",
    "plt.show()"
   ]
  },
  {
   "cell_type": "code",
   "execution_count": 38,
   "metadata": {},
   "outputs": [],
   "source": [
    "lda_model = LatentDirichletAllocation(n_components=n_topics, learning_method='online', \n",
    "                                          random_state=0, verbose=0)\n",
    "lda_topic_matrix = lda_model.fit_transform(tfidf)"
   ]
  },
  {
   "cell_type": "code",
   "execution_count": 40,
   "metadata": {},
   "outputs": [
    {
     "name": "stdout",
     "output_type": "stream",
     "text": [
      "Topic 1:  explain programmer explain programmer ethereum crypto bitcoin crash trading strategy hack\n",
      "Topic 2:  scam bitcoin repeat rally hodl history warning lightning network lightning warning bitcoin\n",
      "Topic 3:  crypto week bitcoin week crypto watch millionaire btc blockchain time day\n",
      "Topic 4:  bull market bull market run bear bull run bitcoin bitcoin bull crypto bear market\n",
      "Topic 5:  trump bitcoin break binance profit crypto real gold github explain\n",
      "Topic 6:  buy bitcoin buy bitcoin crypto news cycle right bullish altcoin bad\n",
      "Topic 7:  memecoin coin crypto plan trade bitcoin game second proof second short\n",
      "Topic 8:  bitcoin crypto money altcoin moon big news month gain etf\n",
      "Topic 9:  explain programmer programmer explain bitcoin need crypto know wallet minute need know\n",
      "Topic 10:  bitcoin price prediction bitcoin price crypto future price prediction interview pump sell\n"
     ]
    }
   ],
   "source": [
    "'''\n",
    "Once again, we take the  argmax of each entry in the topic matrix \n",
    "to obtain the predicted topic category for each headline. \n",
    "These topic categories can then be characterised by their most frequent words.\n",
    "  '''\n",
    "lda_keys = get_keys(lda_topic_matrix)\n",
    "lda_categories, lda_counts = keys_to_counts(lda_keys)\n",
    "\n",
    "top_n_words_lda = get_top_n_words(10, n_topics, lda_keys, tfidf, vectorizer)\n",
    "\n",
    "for i in range(len(top_n_words_lda)):\n",
    "    print(\"Topic {}: \".format(i+1), top_n_words_lda[i])"
   ]
  },
  {
   "cell_type": "markdown",
   "metadata": {},
   "source": [
    "### Non-Negative Matrix Factorization (NMF)\n",
    "Non-Negative Matrix Factorization is a statistical method to reduce the dimension of the input corpora. It uses factor analysis method to provide comparatively less weightage to the words with less coherence."
   ]
  },
  {
   "cell_type": "code",
   "execution_count": null,
   "metadata": {},
   "outputs": [],
   "source": [
    "import matplotlib.pyplot as plt\n",
    "from sklearn.decomposition import TruncatedSVD\n",
    "\n",
    "explained_variances = []\n",
    "k_range = range(2, 50)  # Try different topic numbers\n",
    "\n",
    "for k in k_range:\n",
    "    svd = TruncatedSVD(n_components=k)\n",
    "    svd.fit(tfidf_df)\n",
    "    explained_variances.append(svd.explained_variance_ratio_.sum())\n",
    "\n",
    "# Plot elbow curve\n",
    "plt.figure(figsize=(6, 4))\n",
    "plt.plot(k_range, explained_variances, marker='o', linestyle='--')\n",
    "plt.xlabel('Number of Topics (n_components)')\n",
    "plt.ylabel('Total Explained Variance')\n",
    "plt.title('LSA Topic Modeling - Elbow Curve')\n",
    "plt.grid(True)\n",
    "plt.show()\n"
   ]
  },
  {
   "cell_type": "code",
   "execution_count": 66,
   "metadata": {},
   "outputs": [],
   "source": [
    "nmf_model = NMF(n_components= 10)\n",
    "nmf_topic_matrix = nmf_model.fit(tfidf)"
   ]
  },
  {
   "cell_type": "code",
   "execution_count": 67,
   "metadata": {},
   "outputs": [
    {
     "name": "stdout",
     "output_type": "stream",
     "text": [
      "Topic 1:  bitcoin pump dump sell bitcoin break news bitcoin crypto sell\n",
      "Topic 2:  explain programmer programmer explain ethereum programmer github happen blockchain bitcoin programmer\n",
      "Topic 3:  crypto week week crypto news btc blockchain crypto news crypto week\n",
      "Topic 4:  buy buy bitcoin crypto buy buy crypto sell time token year\n",
      "Topic 5:  bull market bull market run bull run bear bear market crypto bull\n",
      "Topic 6:  ethereum ethereum programmer bitcoin ethereum rich etf buy ethereum ethereum rich new\n",
      "Topic 7:  altcoin right bitcoin altcoin gain month altcoin daily millionaire daily\n",
      "Topic 8:  moon bitcoin moon beginning send ralph binance mobile carl\n",
      "Topic 9:  price bitcoin price prediction price prediction bullish chart bitcoin prediction year\n",
      "Topic 10:  trading day strategy trading strategy step day trading guide trade\n"
     ]
    }
   ],
   "source": [
    "tfidf_feature_names = vectorizer.get_feature_names_out()\n",
    "print_top_words(\n",
    "    nmf_model,\n",
    "    tfidf_feature_names,\n",
    "    8\n",
    ")\n"
   ]
  },
  {
   "cell_type": "markdown",
   "metadata": {},
   "source": [
    "### Hierarchical Dirichlet Process (HDP)"
   ]
  },
  {
   "cell_type": "code",
   "execution_count": 39,
   "metadata": {},
   "outputs": [],
   "source": [
    "data = df['processed_title'].apply(lambda x: x.split())\n",
    "id2word = corpora.Dictionary(data)\n",
    "corpus = [id2word.doc2bow(text) for text in data]"
   ]
  },
  {
   "cell_type": "code",
   "execution_count": 40,
   "metadata": {},
   "outputs": [
    {
     "name": "stdout",
     "output_type": "stream",
     "text": [
      "Best HDP Coherence: 0.767934654932\n",
      "Best HDP Parameters: {'gamma': 1, 'alpha': 0.5, 'kappa': 0.7, 'tau': 64.0}\n"
     ]
    }
   ],
   "source": [
    "param_grid_hdp = {\n",
    "    'gamma': [1, 5, 10],      # Controls topic sparsity (higher = fewer topics)\n",
    "    'alpha': [0.1, 0.5, 1.0], # Document-level topic concentration\n",
    "    'kappa': [0.3, 0.5, 0.7], # Learning rate\n",
    "    'tau': [32.0, 64.0]       # Slow-down parameter\n",
    "}\n",
    "\n",
    "best_coherence_hdp = -1\n",
    "best_params_hdp = {}\n",
    "\n",
    "for gamma in param_grid_hdp['gamma']:\n",
    "    for alpha in param_grid_hdp['alpha']:\n",
    "        for kappa in param_grid_hdp['kappa']:\n",
    "            for tau in param_grid_hdp['tau']:\n",
    "                # Train HDP model\n",
    "                model = HdpModel(\n",
    "                    corpus=corpus,\n",
    "                    id2word=id2word,\n",
    "                    gamma=gamma,\n",
    "                    alpha=alpha,\n",
    "                    kappa=kappa,\n",
    "                    tau=tau\n",
    "                )\n",
    "                \n",
    "                # Calculate coherence score\n",
    "                coherence = CoherenceModel(\n",
    "                    model=model,\n",
    "                    texts=data,\n",
    "                    dictionary=id2word,\n",
    "                    coherence='c_v'\n",
    "                ).get_coherence()\n",
    "                \n",
    "                # Update best parameters\n",
    "                if coherence > best_coherence_hdp:\n",
    "                    best_coherence_hdp = coherence\n",
    "                    best_params_hdp = {\n",
    "                        'gamma': gamma,\n",
    "                        'alpha': alpha,\n",
    "                        'kappa': kappa,\n",
    "                        'tau': tau\n",
    "                    }\n",
    "\n",
    "print(f\"Best HDP Coherence: {best_coherence_hdp}\")\n",
    "print(f\"Best HDP Parameters: {best_params_hdp}\")"
   ]
  },
  {
   "cell_type": "code",
   "execution_count": 41,
   "metadata": {},
   "outputs": [
    {
     "name": "stdout",
     "output_type": "stream",
     "text": [
      "20\n"
     ]
    }
   ],
   "source": [
    "hdp_model = HdpModel(\n",
    "    corpus=corpus,\n",
    "    id2word=id2word,\n",
    "    gamma=1,\n",
    "    alpha=0.5,\n",
    "    kappa=0.7,\n",
    "    tau= 64)\n",
    "\n",
    "hdptopics = hdp_model.show_topics(formatted=False)\n",
    "print(len(hdptopics))"
   ]
  },
  {
   "cell_type": "code",
   "execution_count": 42,
   "metadata": {},
   "outputs": [
    {
     "name": "stdout",
     "output_type": "stream",
     "text": [
      "Coherence Score: 0.7635294082523114\n"
     ]
    }
   ],
   "source": [
    "# Evaluate topic coherence\n",
    "coherence_model = CoherenceModel(\n",
    "    model=hdp_model,\n",
    "    texts=data,\n",
    "    dictionary=id2word,\n",
    "    coherence='c_v'\n",
    ")\n",
    "coherence_score = coherence_model.get_coherence()\n",
    "print(f\"Coherence Score: {coherence_score}\")"
   ]
  },
  {
   "cell_type": "code",
   "execution_count": 43,
   "metadata": {},
   "outputs": [
    {
     "name": "stdout",
     "output_type": "stream",
     "text": [
      "Topic 0: different, hyper, amid, stagflation, tax, gdax, onecoin, cbdc, tx, break, chase, worry, casper, lag, snap, ser, surge, aitheon, official, path\n",
      "Topic 1: crypto, pump, jacob, satoshi, bear, monster, heart, pandemic, themoonshow, centralize, bitcoin, bet, bearmarket, poor, guide, showdown, rip, aspect, infrastructure, scary\n",
      "Topic 2: candlestick, necesario, programmer, texas, nft, etf, scamme, like, musk, spot, create, bitcoin, index, agreement, stx, okx, andrew, trump, computer, paypal\n",
      "Topic 3: major, personhood, replace, pov, ratio, pass, dollar, important, hidden, confirm, act, analogy, cryptozombie, lightning, sharding, size, bash, supermarket, cantillon, era\n",
      "Topic 4: bitcoin, vs, podcast, programmer, crypto, ahead, sharding, vechain, pos, expense, absolute, etherbot, repeat, identity, ftw, low, extortion, explain, educate, holy\n",
      "Topic 5: cocosbcx, bitcoin, سيصل, golden, see, prove, neutral, firstrepublic, video, actually, covid, shoe, game, sideline, available, grain, soon, sbf, bitcoinsv, fund\n",
      "Topic 6: inventor, crypto, review, wreaking, sum, scaling, explain, bitcoin, black, tsla, pivot, wallet, ft, billionaire, hosp, augur, house, fartcoin, urgent, skill\n",
      "Topic 7: industry, morgan, themoonshow, mooooooooooon, find, hand, bitcoinsensus, airdrop, suicide, wework, cook, play, issue, bitcoin, venezuela, clear, doom, objective, casino, bad\n",
      "Topic 8: systematic, productivity, bitcoin, theory, slow, cycle, plasma, outrage, hold, colonialism, wearable, june, manipulation, tender, ميم, pain, payment, jail, puede, candle\n",
      "Topic 9: path, parody, learn, scary, exit, norwegian, window, criminal, rest, mapping, appliance, legitimacy, expose, vechain, shock, play, santa, con, order, start\n",
      "Topic 10: major, shutdown, hardfork, coinledger, quickly, question, redefine, bitcoin, rollout, global, getting, discover, dump, rug, increase, dotcom, flips, business, casino, today\n",
      "Topic 11: speak, vechain, corporate, schnorr, reward, crypto, trial, bitcoin, feel, vs, rune, historical, qe, approve, bitpay, rip, impostor, lifetime, tether, choice\n",
      "Topic 12: law, opportunity, hide, mtl, scandal, elon, domino, influencer, danger, altcoin, wave, downside, destroy, shoot, say, unprepared, learn, yumerium, trolls, math\n",
      "Topic 13: crypto, sbf, boschung, space, oct, nominate, new, dotcom, appliance, bear, hole, dcae, profitable, altcoin, objective, strongly, verify, suspicion, box, preventa\n",
      "Topic 14: candlestick, quadriga, slow, fly, valuation, bitcoin, unprofitable, cpi, walk, ath, partnership, avoid, hit, gear, vietnamese, wrist, sargon, drink, approve, ultimate\n",
      "Topic 15: rollout, reach, liquidity, hire, math, zilliqa, fdv, créditos, vechain, shib, controversial, guard, celebration, julian, adoption, stable, false, effectively, rate, ta\n",
      "Topic 16: centralization, step, sam, empire, bitcoin, non, taxis, truth, death, canada, nem, smart, choice, reject, remix, programming, plug, para, xmr, week\n",
      "Topic 17: bitcoin, situation, real, yell, token, teaching, truth, bond, realistically, head, gift, bullshit, ask, continue, presale, unbelievable, programming, remain, surge, crypto\n",
      "Topic 18: uber, determine, bitcoin, lisk, food, master, perpetual, pundix, wax, problem, nutshell, shoulder, shorting, prevail, news, identity, cryptokittie, shock, oct, condition\n",
      "Topic 19: crush, double, welcome, fix, bitcoin, sky, intel, xrp, set, moog, crypto, wild, dcae, prevention, controversial, zilliqajs, platform, clear, sue, alert\n"
     ]
    }
   ],
   "source": [
    "for topic_id, topic_words in hdptopics:\n",
    "    words = [word for word, _ in topic_words]\n",
    "    print(f\"Topic {topic_id}: {', '.join(words)}\")"
   ]
  }
 ],
 "metadata": {
  "kernelspec": {
   "display_name": "yt_env",
   "language": "python",
   "name": "python3"
  },
  "language_info": {
   "codemirror_mode": {
    "name": "ipython",
    "version": 3
   },
   "file_extension": ".py",
   "mimetype": "text/x-python",
   "name": "python",
   "nbconvert_exporter": "python",
   "pygments_lexer": "ipython3",
   "version": "3.10.16"
  }
 },
 "nbformat": 4,
 "nbformat_minor": 2
}
